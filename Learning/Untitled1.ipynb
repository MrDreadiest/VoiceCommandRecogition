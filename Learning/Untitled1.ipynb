{
 "cells": [
  {
   "cell_type": "code",
   "execution_count": 1,
   "id": "8ba574a0-c21e-4e2f-bbba-bdea8859ee1a",
   "metadata": {},
   "outputs": [],
   "source": [
    "import os\n",
    "import pathlib\n",
    "\n",
    "from matplotlib import pyplot as plt\n",
    "import numpy as np\n",
    "import tensorflow as tf \n",
    "import tensorflow_io as tfio\n",
    "\n",
    "from tensorflow.keras import layers\n",
    "from tensorflow.keras import models\n",
    "from IPython import display\n",
    "\n",
    "import librosa\n",
    "import librosa.display\n",
    "import IPython\n"
   ]
  },
  {
   "cell_type": "code",
   "execution_count": 8,
   "id": "2c19e394-6d0c-4ac6-9e91-73e643d3f83e",
   "metadata": {},
   "outputs": [],
   "source": [
    "DATASET_PATH = 'data_aug_img'\n",
    "data_dir = pathlib.Path(DATASET_PATH)"
   ]
  },
  {
   "cell_type": "markdown",
   "id": "43044bf3-87d5-494a-a250-fcc436525a93",
   "metadata": {},
   "source": [
    "ODCZYTANIE I PODZIAŁ DANYCH WEJŚCIOWYCH"
   ]
  },
  {
   "cell_type": "code",
   "execution_count": 13,
   "id": "9b6b2a3e-c1e9-40d4-8838-20f5de32afd6",
   "metadata": {},
   "outputs": [
    {
     "name": "stdout",
     "output_type": "stream",
     "text": [
      "Liczba wszystkich próbek :  240\n",
      "00-odrzuc_bron 48\n",
      "01-obroc_sie 48\n",
      "02-na_kolana 48\n",
      "03-gleba 48\n",
      "04-rece_na_glowe 48\n"
     ]
    }
   ],
   "source": [
    "seed = 42\n",
    "tf.random.set_seed(seed)\n",
    "np.random.seed(seed)\n",
    "\n",
    "filenames = tf.io.gfile.glob(str(data_dir)+'/*/*.png')\n",
    "filenames = tf.random.shuffle(filenames)\n",
    "\n",
    "files_total_number = len(filenames)\n",
    "print('Liczba wszystkich próbek : ', files_total_number)\n",
    "\n",
    "commands = np.array(tf.io.gfile.listdir(str(data_dir)))\n",
    "\n",
    "for command in commands:\n",
    "    print(command, len(tf.io.gfile.glob( str(os.path.join(data_dir,command)) + '/*.png')))"
   ]
  },
  {
   "cell_type": "code",
   "execution_count": 12,
   "id": "3367022c-5928-4349-965a-8f93660eed01",
   "metadata": {},
   "outputs": [
    {
     "name": "stdout",
     "output_type": "stream",
     "text": [
      "Zestaw uczący :  168\n",
      "Zestaw walidacyjny :  36\n",
      "Zestaw testowy :  36\n"
     ]
    }
   ],
   "source": [
    "train_num = 0.70\n",
    "val_num = 0.15\n",
    "test_num = 0.15\n",
    "\n",
    "train_files = filenames[:int(files_total_number*train_num)]\n",
    "val_files = filenames[int(files_total_number*train_num) : int(files_total_number*train_num) + int(files_total_number*val_num)]\n",
    "test_files = filenames[int(files_total_number*train_num) + int(files_total_number*val_num):]\n",
    "\n",
    "\n",
    "print('Zestaw uczący : ', len(train_files))\n",
    "print('Zestaw walidacyjny : ', len(val_files))\n",
    "print('Zestaw testowy : ', len(test_files))\n"
   ]
  },
  {
   "cell_type": "code",
   "execution_count": 21,
   "id": "de3c4737-1ad6-4f9f-b79a-c83944530658",
   "metadata": {},
   "outputs": [],
   "source": [
    "def get_label(file_path):\n",
    "    parts = tf.strings.split( input=file_path, sep=os.path.sep )\n",
    "    # Note: You'll use indexing here instead of tuple unpacking to enable this\n",
    "    # to work in a TensorFlow graph.\n",
    "    return parts[-2]"
   ]
  },
  {
   "cell_type": "code",
   "execution_count": 22,
   "id": "3bb0d045-7387-4297-a8af-a316482f5e97",
   "metadata": {},
   "outputs": [],
   "source": [
    "def load_spec_img(file_path):\n",
    "    label = get_label(file_path)\n",
    "    img = tf.io.read_file(file_path)\n",
    "    img = tf.image.decode_png(img, channels=3)\n",
    "    img = tf.image.convert_image_dtype(img, tf.float32)\n",
    "    img = tf.image.resize(img, size=(100, 100)) # optional\n",
    "    label = tf.cast(tf.equal(label, 'class2'), tf.int32)\n",
    "    return img, label"
   ]
  },
  {
   "cell_type": "code",
   "execution_count": null,
   "id": "4e989268-2e77-47cf-99e8-ed5c1bf10755",
   "metadata": {},
   "outputs": [],
   "source": []
  },
  {
   "cell_type": "code",
   "execution_count": null,
   "id": "3c0488c1-c6d4-4b0c-9673-d1fedae2a0fb",
   "metadata": {},
   "outputs": [],
   "source": []
  }
 ],
 "metadata": {
  "kernelspec": {
   "display_name": "env_angmincommands",
   "language": "python",
   "name": "env_angmincommands"
  },
  "language_info": {
   "codemirror_mode": {
    "name": "ipython",
    "version": 3
   },
   "file_extension": ".py",
   "mimetype": "text/x-python",
   "name": "python",
   "nbconvert_exporter": "python",
   "pygments_lexer": "ipython3",
   "version": "3.9.13"
  }
 },
 "nbformat": 4,
 "nbformat_minor": 5
}
