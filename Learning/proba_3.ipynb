{
 "cells": [
  {
   "cell_type": "code",
   "execution_count": 15,
   "id": "40041f83-e0a8-4910-ad31-4c485912abd0",
   "metadata": {},
   "outputs": [],
   "source": [
    "import os\n",
    "import pathlib\n",
    "\n",
    "from matplotlib import pyplot as plt\n",
    "import numpy as np\n",
    "import tensorflow as tf \n",
    "import tensorflow_io as tfio\n",
    "import scipy.signal as signal\n",
    "\n",
    "from tensorflow.keras import layers\n",
    "from tensorflow.keras import models\n",
    "from IPython import display\n",
    "\n",
    "import seaborn as sns\n",
    "\n",
    "import librosa\n",
    "import librosa.display\n",
    "import IPython"
   ]
  },
  {
   "cell_type": "code",
   "execution_count": 16,
   "id": "fcaabde1-cfc5-408d-ad36-ac3300180dcb",
   "metadata": {},
   "outputs": [],
   "source": [
    "# Avoid OOM errors by setting GPU Memory Consumption Growth\n",
    "physical_devices = tf.config.experimental.list_physical_devices('GPU')\n",
    "if len(physical_devices) > 0:\n",
    "    tf.config.experimental.set_memory_growth(physical_devices[0], True)"
   ]
  },
  {
   "cell_type": "code",
   "execution_count": 17,
   "id": "39dcb3ae-7859-42ea-abac-693064bc8628",
   "metadata": {},
   "outputs": [
    {
     "data": {
      "text/plain": [
       "[]"
      ]
     },
     "execution_count": 17,
     "metadata": {},
     "output_type": "execute_result"
    }
   ],
   "source": [
    "tf.config.list_physical_devices('GPU')"
   ]
  },
  {
   "cell_type": "code",
   "execution_count": 18,
   "id": "341fb17a-ae68-464f-a864-e38ce0cde93c",
   "metadata": {},
   "outputs": [],
   "source": [
    "def get_label(file_path):\n",
    "    parts = tf.strings.split( input=file_path, sep=os.path.sep )\n",
    "    return parts[-2]"
   ]
  },
  {
   "cell_type": "code",
   "execution_count": 19,
   "id": "3421a0e1-06d0-4ad1-bcd1-d8db020697d9",
   "metadata": {},
   "outputs": [],
   "source": [
    "def load_audio(file_path):\n",
    "    audio_binary = tf.io.read_file(file_path)\n",
    "    # Decode WAV-encoded audio files to `float32` tensors, normalized\n",
    "    # to the [-1.0, 1.0] range. Return `float32` audio and a sample rate.\n",
    "    audio, _ = tf.audio.decode_wav(contents=audio_binary)\n",
    "\n",
    "    # Convert audio to mono channel and normalize\n",
    "    audio = tf.squeeze(audio, axis=-1)\n",
    "    audio = tf.cast(audio, tf.float32)\n",
    "    \n",
    "    return audio"
   ]
  },
  {
   "cell_type": "code",
   "execution_count": 20,
   "id": "9006b076-5c33-4d8b-8fd2-578b273909db",
   "metadata": {},
   "outputs": [],
   "source": [
    "def get_waveform_and_label(file_path):\n",
    "    label = get_label(file_path)\n",
    "    waveform = load_audio(file_path)\n",
    "    return waveform, label"
   ]
  },
  {
   "cell_type": "markdown",
   "id": "843514d1-e04f-4e96-af4f-be87c650fea5",
   "metadata": {},
   "source": [
    "KROK 2"
   ]
  },
  {
   "cell_type": "code",
   "execution_count": 21,
   "id": "91e229e9-1646-40f2-b825-9c97fca8618f",
   "metadata": {},
   "outputs": [],
   "source": [
    "def get_label_id(label: str):\n",
    "    return tf.argmax(label == COMMANDS)"
   ]
  },
  {
   "cell_type": "code",
   "execution_count": 22,
   "id": "e4efe470-ddf8-4de3-b255-d26a9c7fd610",
   "metadata": {},
   "outputs": [],
   "source": [
    "def get_spectrogram(waveform):\n",
    "    \n",
    "    n_fft = N_FFT\n",
    "    hop_length = HOP_LENGTH\n",
    "    n_mels = N_MELS\n",
    "\n",
    "    f_min = F_MIN\n",
    "    f_max = F_MAX\n",
    "    \n",
    "    # Convert to spectrogram\n",
    "    spectrogram = tfio.audio.spectrogram(waveform, nfft=n_fft, window=n_fft, stride=n_mels)\n",
    "      \n",
    "    # Convert to mel-spectrogram\n",
    "    mel_spectrogram = tfio.audio.melscale(spectrogram, rate=SR, mels=n_mels, fmin=f_min, fmax=f_max)\n",
    "    # Convert to db scale mel-spectrogram\n",
    "    dbscale_mel_spectrogram = tfio.audio.dbscale(mel_spectrogram, top_db=80)\n",
    "    # Add a `channels` dimension, so that the spectrogram can be used\n",
    "    # as image-like input data with convolution layers (which expect\n",
    "    # shape (`batch_size`, `height`, `width`, `channels`).\n",
    "    dbscale_mel_spectrogram = dbscale_mel_spectrogram[..., tf.newaxis]\n",
    "    #    spectrogram = tf.expand_dims(spectrogram, axis=2)\n",
    "    \n",
    "    return dbscale_mel_spectrogram"
   ]
  },
  {
   "cell_type": "code",
   "execution_count": 23,
   "id": "57b1cbd9-4f6f-47dd-8e6a-d1ea51f286e7",
   "metadata": {},
   "outputs": [],
   "source": [
    "def get_spectrogram_and_label_id(audio, label):\n",
    "    spectrogram = get_spectrogram(audio)\n",
    "    label_id = get_label_id(label)\n",
    "    return spectrogram, label_id"
   ]
  },
  {
   "cell_type": "markdown",
   "id": "bd029dc2-c578-4edf-9ac8-580063cc7b16",
   "metadata": {},
   "source": [
    "KROK 3"
   ]
  },
  {
   "cell_type": "code",
   "execution_count": 24,
   "id": "da8d5a49-5e05-4b7d-830f-06f59fb34b07",
   "metadata": {},
   "outputs": [],
   "source": [
    "def preprocess_dataset(files):\n",
    "    files_ds = tf.data.Dataset.from_tensor_slices(files)\n",
    "    \n",
    "    output_ds = files_ds.map(\n",
    "      map_func=get_waveform_and_label,\n",
    "      num_parallel_calls=AUTOTUNE)\n",
    "    \n",
    "    output_ds = output_ds.map(\n",
    "      map_func=get_spectrogram_and_label_id,\n",
    "      num_parallel_calls=AUTOTUNE)\n",
    "    \n",
    "    return output_ds"
   ]
  },
  {
   "cell_type": "code",
   "execution_count": 25,
   "id": "6e465fc8-c140-44ed-bec0-14ba5e22e0f6",
   "metadata": {},
   "outputs": [],
   "source": [
    "def plot_spectrogram(spectrogram, ax):\n",
    "    if len(spectrogram.shape) > 2:\n",
    "        assert len(spectrogram.shape) == 3\n",
    "        spectrogram = np.squeeze(spectrogram, axis=-1)\n",
    "    # Convert the frequencies to log scale and transpose, so that the time is\n",
    "    # represented on the x-axis (columns).\n",
    "    # Add an epsilon to avoid taking a log of zero.\n",
    "    log_spec = spectrogram.T + np.finfo(float).eps\n",
    "    height = log_spec.shape[0]\n",
    "    width = log_spec.shape[1]\n",
    "    X = np.linspace(0, np.size(spectrogram), num=width, dtype=int)\n",
    "    Y = range(height)\n",
    "    ax.pcolormesh(X, Y, log_spec)"
   ]
  },
  {
   "cell_type": "markdown",
   "id": "eedcc738-41a7-4b05-acfa-e104115d4a0f",
   "metadata": {},
   "source": [
    "POBRANIE PLIKÓW AUDIO"
   ]
  },
  {
   "cell_type": "code",
   "execution_count": 26,
   "id": "0439e30f-6217-4280-9a68-b4f8d4c96078",
   "metadata": {},
   "outputs": [],
   "source": [
    "SR = 16000\n",
    "F_MIN = 100\n",
    "F_MAX = 8000\n",
    "\n",
    "N_FFT = int(0.05 * SR)  # 25 ms, 50ms\n",
    "HOP_LENGTH = int(0.02 * SR)  # 10 ms\n",
    "N_MELS = 128\n",
    "\n",
    "\n",
    "DURATION = 2.0\n",
    "PRE_EMPHASIS = 0.97\n",
    "N_MFCC = 40\n",
    "\n",
    "DATASET_DIR = '..\\\\DATA\\\\data_aug_23'\n",
    "DATASET_PATH = pathlib.Path(DATASET_DIR)\n",
    "COMMANDS = []\n",
    "FILENAMES = []"
   ]
  },
  {
   "cell_type": "code",
   "execution_count": 27,
   "id": "d324fba1-ec97-4e11-92fd-d2188f6fff14",
   "metadata": {},
   "outputs": [
    {
     "name": "stdout",
     "output_type": "stream",
     "text": [
      "Liczba wszystkich próbek :  17181\n",
      "00-odrzuc_bron 3290\n",
      "01-obroc_sie 3388\n",
      "02-na_kolana 3276\n",
      "03-gleba 3304\n",
      "04-rece_na_glowe 3332\n",
      "05-tlo 591\n"
     ]
    }
   ],
   "source": [
    "FILENAMES = tf.io.gfile.glob(str(DATASET_PATH)+'/*/*.wav')\n",
    "\n",
    "\n",
    "filenames_len = len(FILENAMES)\n",
    "print('Liczba wszystkich próbek : ', filenames_len)\n",
    "\n",
    "COMMANDS = np.array(tf.io.gfile.listdir(str(DATASET_PATH)))\n",
    "\n",
    "for command in COMMANDS:\n",
    "    print(command, len(tf.io.gfile.glob( str(os.path.join(DATASET_PATH, command)) + '/*.wav')))\n",
    "    "
   ]
  },
  {
   "cell_type": "code",
   "execution_count": 28,
   "id": "dea19893-dc9a-413f-afb6-1c78fbccd615",
   "metadata": {},
   "outputs": [
    {
     "name": "stdout",
     "output_type": "stream",
     "text": [
      "48000\n",
      "48000\n",
      "48000.0\n"
     ]
    }
   ],
   "source": [
    "lengths = []\n",
    "for file_name in FILENAMES:\n",
    "    wav = load_audio(file_name)\n",
    "    lengths.append(len(wav))\n",
    "\n",
    "array = np.array(lengths)\n",
    "print(array.min())\n",
    "print(array.max())\n",
    "print(array.mean())\n"
   ]
  },
  {
   "cell_type": "markdown",
   "id": "e08c286e-c8b8-4259-9b4c-a0398cded284",
   "metadata": {},
   "source": [
    "PRZYGOTOWANIE ZESTAWÓW "
   ]
  },
  {
   "cell_type": "code",
   "execution_count": 15,
   "id": "9919b1a3-67dd-4241-af13-75ccc634ac32",
   "metadata": {},
   "outputs": [],
   "source": [
    "seed = 42\n",
    "tf.random.set_seed(seed)\n",
    "np.random.seed(seed)\n",
    "\n",
    "FILENAMES = tf.random.shuffle(FILENAMES)\n",
    "\n",
    "train_num = 0.8\n",
    "val_num = 0.2\n",
    "#test_num = 0.1\n",
    "\n",
    "train_files = FILENAMES[:int(filenames_len*train_num)]\n",
    "val_files = FILENAMES[int(filenames_len*train_num) : int(filenames_len*train_num) + int(filenames_len*val_num)]\n",
    "#test_files = FILENAMES[int(filenames_len*train_num) + int(filenames_len*val_num):]\n",
    "\n",
    "AUTOTUNE = tf.data.AUTOTUNE\n",
    "\n",
    "files_ds = tf.data.Dataset.from_tensor_slices(train_files)\n",
    "\n",
    "train_ds = preprocess_dataset(train_files)\n",
    "val_ds = preprocess_dataset(val_files)\n",
    "#test_ds = preprocess_dataset(test_files)"
   ]
  },
  {
   "cell_type": "code",
   "execution_count": 16,
   "id": "0aa6935e-c032-4e75-9248-ab01ba2c856f",
   "metadata": {},
   "outputs": [
    {
     "name": "stdout",
     "output_type": "stream",
     "text": [
      "Input shape: (375, 128, 1)\n",
      "Classes: 6\n"
     ]
    }
   ],
   "source": [
    "input_shape = 0\n",
    "for spectrogram, _ in train_ds.take(1):\n",
    "    input_shape = spectrogram.shape\n",
    "    \n",
    "num_labels = len(COMMANDS)\n",
    "\n",
    "print('Input shape:', input_shape)\n",
    "print('Classes:', num_labels)"
   ]
  },
  {
   "cell_type": "code",
   "execution_count": 17,
   "id": "539acd46-a43a-40ce-be31-bb31217f9d36",
   "metadata": {},
   "outputs": [],
   "source": [
    "batch_size = 64\n",
    "\n",
    "train_ds = train_ds.batch(batch_size)\n",
    "val_ds = val_ds.batch(batch_size)\n",
    "\n",
    "#Dataset.cache i Dataset.prefetch , aby zmniejszyć opóźnienie odczytu podczas uczenia modelu:\n",
    "train_ds = train_ds.cache().prefetch(AUTOTUNE)\n",
    "val_ds = val_ds.cache().prefetch(AUTOTUNE)"
   ]
  },
  {
   "cell_type": "code",
   "execution_count": 18,
   "id": "c497c11d-fc5b-4076-bf95-5d212f72a438",
   "metadata": {},
   "outputs": [],
   "source": [
    "# Instantiate the `tf.keras.layers.Normalization` layer.\n",
    "norm_layer = layers.Normalization()\n",
    "# Fit the state of the layer to the spectrograms\n",
    "# with `Normalization.adapt`.\n",
    "norm_layer.adapt(data=train_ds.map(map_func=lambda spec, label: spec))\n",
    "\n"
   ]
  },
  {
   "cell_type": "code",
   "execution_count": 22,
   "id": "f7a11beb-0006-4e41-a07d-f40405fac4aa",
   "metadata": {},
   "outputs": [
    {
     "name": "stdout",
     "output_type": "stream",
     "text": [
      "Model: \"sequential_3\"\n",
      "_________________________________________________________________\n",
      " Layer (type)                Output Shape              Param #   \n",
      "=================================================================\n",
      " normalization (Normalizatio  (None, 375, 128, 1)      3         \n",
      " n)                                                              \n",
      "                                                                 \n",
      " conv2d_12 (Conv2D)          (None, 367, 120, 16)      1312      \n",
      "                                                                 \n",
      " max_pooling2d_12 (MaxPoolin  (None, 183, 60, 16)      0         \n",
      " g2D)                                                            \n",
      "                                                                 \n",
      " conv2d_13 (Conv2D)          (None, 177, 54, 32)       25120     \n",
      "                                                                 \n",
      " max_pooling2d_13 (MaxPoolin  (None, 88, 27, 32)       0         \n",
      " g2D)                                                            \n",
      "                                                                 \n",
      " conv2d_14 (Conv2D)          (None, 84, 23, 64)        51264     \n",
      "                                                                 \n",
      " max_pooling2d_14 (MaxPoolin  (None, 42, 11, 64)       0         \n",
      " g2D)                                                            \n",
      "                                                                 \n",
      " conv2d_15 (Conv2D)          (None, 40, 9, 128)        73856     \n",
      "                                                                 \n",
      " max_pooling2d_15 (MaxPoolin  (None, 20, 4, 128)       0         \n",
      " g2D)                                                            \n",
      "                                                                 \n",
      " flatten_3 (Flatten)         (None, 10240)             0         \n",
      "                                                                 \n",
      " dense_9 (Dense)             (None, 512)               5243392   \n",
      "                                                                 \n",
      " dropout_6 (Dropout)         (None, 512)               0         \n",
      "                                                                 \n",
      " dense_10 (Dense)            (None, 128)               65664     \n",
      "                                                                 \n",
      " dropout_7 (Dropout)         (None, 128)               0         \n",
      "                                                                 \n",
      " dense_11 (Dense)            (None, 6)                 774       \n",
      "                                                                 \n",
      "=================================================================\n",
      "Total params: 5,461,385\n",
      "Trainable params: 5,461,382\n",
      "Non-trainable params: 3\n",
      "_________________________________________________________________\n"
     ]
    }
   ],
   "source": [
    "model = models.Sequential([\n",
    "    layers.Input(shape=input_shape),\n",
    "    norm_layer,\n",
    "    layers.Conv2D(16, 9, activation='relu'),\n",
    "    layers.MaxPooling2D(),\n",
    "    layers.Conv2D(32, 7, activation='relu'),\n",
    "    layers.MaxPooling2D(),\n",
    "    layers.Conv2D(64, 5, activation='relu'),\n",
    "    layers.MaxPooling2D(),\n",
    "    layers.Conv2D(128, 3, activation='relu'),\n",
    "    layers.MaxPooling2D(),\n",
    "    layers.Flatten(),\n",
    "    layers.Dense(512, activation='relu'),\n",
    "    layers.Dropout(0.25),\n",
    "    layers.Dense(128, activation='relu'),\n",
    "    layers.Dropout(0.5),\n",
    "    layers.Dense(num_labels, activation='softmax'),\n",
    "])\n",
    "\n",
    "model.summary()"
   ]
  },
  {
   "cell_type": "raw",
   "id": "33c80695-467e-42dc-907a-ae7baa8bd04c",
   "metadata": {},
   "source": [
    "model = models.Sequential([\n",
    "    layers.Input(shape=input_shape),\n",
    "    norm_layer,\n",
    "    layers.Conv2D(32, 3, activation='relu'),\n",
    "    #layers.Conv2D(32, 7, activation='relu'),\n",
    "    layers.MaxPooling2D(),\n",
    "    layers.Conv2D(64, 3, activation='relu'),\n",
    "    #layers.Conv2D(64, 5, activation='relu'),\n",
    "    layers.MaxPooling2D(),\n",
    "    layers.Conv2D(128, 3, activation='relu'),\n",
    "    #layers.Conv2D(128, 3, activation='relu'),\n",
    "    layers.MaxPooling2D(),\n",
    "    layers.Flatten(),\n",
    "    layers.Dense(128, activation='relu'),\n",
    "    layers.Dropout(0.5),\n",
    "    layers.Dense(num_labels, activation='softmax'),\n",
    "])\n",
    "\n",
    "model.summary()"
   ]
  },
  {
   "cell_type": "raw",
   "id": "ef37ba67-9e7e-4df2-8739-d657ec9fcbe8",
   "metadata": {},
   "source": [
    "model2.add(Conv2D(filters=32, kernel_size=(7,7), padding='same', activation='relu', input_shape=(256, 256, 1)))\n",
    "model2.add(Conv2D(filters=32, kernel_size=(7,7), padding='same', activation='relu'))\n",
    "model2.add(MaxPooling2D(pool_size=(2,2)))\n",
    " \n",
    "model2.add(Conv2D(filters=64, kernel_size=(5,5), padding='same', activation='relu'))\n",
    "model2.add(Conv2D(filters=64, kernel_size=(5,5), padding='same', activation='relu'))\n",
    "model2.add(MaxPooling2D(pool_size=(2,2)))\n",
    " \n",
    "model2.add(Conv2D(filters=128, kernel_size=(3,3), padding='same', activation='relu'))\n",
    "model2.add(Conv2D(filters=128, kernel_size=(3,3), padding='same', activation='relu'))\n",
    "model2.add(MaxPooling2D(pool_size=(2,2)))\n",
    " \n",
    "model2.add(Flatten())\n",
    " \n",
    "model2.add(Dense(128, activation='relu'))\n",
    "model2.add(Dropout(0.33))\n",
    " \n",
    "model2.add(Dense(2, activation='softmax'))"
   ]
  },
  {
   "cell_type": "markdown",
   "id": "6b9ef3b9-8cd9-4e68-b6eb-45537b9040ab",
   "metadata": {},
   "source": [
    "model = models.Sequential([\n",
    "    layers.Input(shape=input_shape),\n",
    "    # Downsample the input.\n",
    "    layers.Resizing(128, 128),\n",
    "    # Normalize.\n",
    "    norm_layer,\n",
    "    layers.Conv2D(32, 3, activation='relu'),\n",
    "    layers.Conv2D(64, 3, activation='relu'),\n",
    "    layers.MaxPooling2D(),\n",
    "    layers.Dropout(0.25),\n",
    "    layers.Flatten(),\n",
    "    layers.Dense(128, activation='relu'),\n",
    "    layers.Dropout(0.5),\n",
    "    layers.Dense(num_labels),\n",
    "])\n",
    "\n",
    "model.summary()"
   ]
  },
  {
   "cell_type": "code",
   "execution_count": 23,
   "id": "33593998-b5a4-4725-813c-d29cbd2d6960",
   "metadata": {},
   "outputs": [],
   "source": [
    "model.compile(\n",
    "    optimizer=tf.keras.optimizers.Adam(),\n",
    "    loss=tf.keras.losses.SparseCategoricalCrossentropy(from_logits=False),\n",
    "    metrics=['accuracy'],\n",
    ")"
   ]
  },
  {
   "cell_type": "code",
   "execution_count": 24,
   "id": "3a3cdf4a-b7c6-47f1-835b-b0904eeaa452",
   "metadata": {},
   "outputs": [
    {
     "name": "stdout",
     "output_type": "stream",
     "text": [
      "Epoch 1/100\n",
      "214/214 [==============================] - 267s 1s/step - loss: 1.0904 - accuracy: 0.5653 - val_loss: 0.3744 - val_accuracy: 0.8679\n",
      "Epoch 2/100\n",
      "214/214 [==============================] - 154s 719ms/step - loss: 0.2630 - accuracy: 0.9163 - val_loss: 0.1373 - val_accuracy: 0.9590\n",
      "Epoch 3/100\n",
      "214/214 [==============================] - 206s 964ms/step - loss: 0.1225 - accuracy: 0.9626 - val_loss: 0.0775 - val_accuracy: 0.9763\n",
      "Epoch 4/100\n",
      "214/214 [==============================] - 226s 1s/step - loss: 0.0756 - accuracy: 0.9755 - val_loss: 0.1109 - val_accuracy: 0.9684\n",
      "Epoch 5/100\n",
      "214/214 [==============================] - 225s 1s/step - loss: 0.0519 - accuracy: 0.9847 - val_loss: 0.0780 - val_accuracy: 0.9760\n",
      "Epoch 5: early stopping\n"
     ]
    }
   ],
   "source": [
    "EPOCHS = 100\n",
    "history = model.fit(\n",
    "    train_ds,\n",
    "    validation_data=val_ds,\n",
    "    epochs=EPOCHS,\n",
    "    callbacks=tf.keras.callbacks.EarlyStopping(verbose=1, patience=2),\n",
    ")"
   ]
  },
  {
   "cell_type": "code",
   "execution_count": 25,
   "id": "03330ad1-38c6-449d-84ff-01c910d6b54b",
   "metadata": {},
   "outputs": [
    {
     "data": {
      "image/png": "[encoded data removed]",
      "text/plain": [
       "<Figure size 640x480 with 1 Axes>"
      ]
     },
     "metadata": {},
     "output_type": "display_data"
    }
   ],
   "source": [
    "metrics = history.history\n",
    "plt.plot(history.epoch, metrics['loss'], metrics['val_loss'])\n",
    "plt.legend(['loss', 'val_loss'])\n",
    "plt.show()"
   ]
  },
  {
   "cell_type": "code",
   "execution_count": 26,
   "id": "9212b144-618a-4eec-b66b-6d25ee6da051",
   "metadata": {},
   "outputs": [
    {
     "data": {
      "image/png": "[encoded data removed]",
      "text/plain": [
       "<Figure size 640x480 with 1 Axes>"
      ]
     },
     "metadata": {},
     "output_type": "display_data"
    }
   ],
   "source": [
    "plt.plot(history.epoch, metrics['accuracy'], metrics['val_accuracy'])\n",
    "plt.legend(['accuracy', 'val_accuracy'])\n",
    "plt.show()"
   ]
  },
  {
   "cell_type": "code",
   "execution_count": 34,
   "id": "af834e16-cbcc-4e1f-92cf-9a624286449b",
   "metadata": {},
   "outputs": [
    {
     "name": "stdout",
     "output_type": "stream",
     "text": [
      "200\n"
     ]
    }
   ],
   "source": [
    "test_files = tf.io.gfile.glob(str('..\\\\DATA\\\\check_dirty')+'/*/*.wav')\n",
    "seed = 50\n",
    "tf.random.set_seed(seed)\n",
    "np.random.seed(seed)\n",
    "filenames2 = tf.random.shuffle(test_files)\n",
    "print(len(test_files))"
   ]
  },
  {
   "cell_type": "code",
   "execution_count": null,
   "id": "b4c0406c-3e4e-494e-9df6-c52659226766",
   "metadata": {},
   "outputs": [],
   "source": [
    "test_ds = preprocess_dataset(test_files)\n",
    "\n",
    "test_audio = []\n",
    "test_labels = []\n",
    "\n",
    "for audio, label in test_ds:\n",
    "    test_audio.append(audio.numpy())\n",
    "    test_labels.append(label.numpy())\n",
    "\n",
    "test_audio = np.array(test_audio)\n",
    "test_labels = np.array(test_labels)\n",
    "\n",
    "y_pred = np.argmax(model.predict(test_audio), axis=1)\n",
    "y_true = test_labels\n",
    "\n",
    "test_acc = sum(y_pred == y_true) / len(y_true)\n",
    "print(f'Test set accuracy: {test_acc:.0%}')"
   ]
  },
  {
   "cell_type": "code",
   "execution_count": null,
   "id": "e97314d4-a378-4392-91de-e3feb40c711b",
   "metadata": {},
   "outputs": [],
   "source": [
    "model_name = f\"fmax{F_MIN}-fmin{F_MAX}-mels{N_MELS}-nfft{N_FFT}-hop{HOP_LENGTH}-tnum{train_num}-vnum{val_num}-{test_acc:.02}%\""
   ]
  },
  {
   "cell_type": "code",
   "execution_count": null,
   "id": "a8498b54-89bd-4d63-bf72-28510b57cba8",
   "metadata": {},
   "outputs": [],
   "source": [
    "confusion_mtx = tf.math.confusion_matrix(y_true, y_pred)\n",
    "plt.figure(figsize=(10, 8))\n",
    "sns.heatmap(confusion_mtx,\n",
    "            xticklabels=COMMANDS,\n",
    "            yticklabels=COMMANDS,\n",
    "            annot=True, fmt='g')\n",
    "plt.title(f'Test set accuracy: {test_acc:.0%}')\n",
    "plt.xlabel('Prediction')\n",
    "plt.ylabel('Label')\n",
    "plt.savefig(model_name+\".png\", dpi=100)\n",
    "plt.show()"
   ]
  },
  {
   "cell_type": "code",
   "execution_count": null,
   "id": "0140d43d-42aa-4270-9bba-71e06eb5002e",
   "metadata": {},
   "outputs": [],
   "source": []
  },
  {
   "cell_type": "code",
   "execution_count": 33,
   "id": "eaa512c2-ba11-47f0-958c-f654cb60cfca",
   "metadata": {},
   "outputs": [
    {
     "name": "stdout",
     "output_type": "stream",
     "text": [
      "INFO:tensorflow:Assets written to: model-85\\assets\n"
     ]
    }
   ],
   "source": [
    "model.save(\"model-85\")"
   ]
  },
  {
   "cell_type": "code",
   "execution_count": 32,
   "id": "868051b3-2e9f-4e73-bd3c-833f4ad1d12b",
   "metadata": {},
   "outputs": [
    {
     "data": {
      "text/plain": [
       "array(['00-odrzuc_bron', '01-obroc_sie', '02-na_kolana', '03-gleba',\n",
       "       '04-rece_na_glowe', '05-tlo'], dtype='<U16')"
      ]
     },
     "execution_count": 32,
     "metadata": {},
     "output_type": "execute_result"
    }
   ],
   "source": [
    "COMMANDS"
   ]
  },
  {
   "cell_type": "code",
   "execution_count": null,
   "id": "c9ec090b-0c28-4393-9710-e8955182d153",
   "metadata": {},
   "outputs": [],
   "source": []
  },
  {
   "cell_type": "code",
   "execution_count": null,
   "id": "05835b90-a548-40c6-9bab-954eb098560f",
   "metadata": {},
   "outputs": [],
   "source": []
  }
 ],
 "metadata": {
  "kernelspec": {
   "display_name": "env_voice_command_classification",
   "language": "python",
   "name": "env_voice_command_classification"
  },
  "language_info": {
   "codemirror_mode": {
    "name": "ipython",
    "version": 3
   },
   "file_extension": ".py",
   "mimetype": "text/x-python",
   "name": "python",
   "nbconvert_exporter": "python",
   "pygments_lexer": "ipython3",
   "version": "3.9.13"
  }
 },
 "nbformat": 4,
 "nbformat_minor": 5
}
